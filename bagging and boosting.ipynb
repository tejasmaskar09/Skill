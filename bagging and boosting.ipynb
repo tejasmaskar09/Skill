{
  "nbformat": 4,
  "nbformat_minor": 0,
  "metadata": {
    "colab": {
      "provenance": [],
      "authorship_tag": "ABX9TyP6VcSxcjOTauJ7XTgbKVXs",
      "include_colab_link": true
    },
    "kernelspec": {
      "name": "python3",
      "display_name": "Python 3"
    },
    "language_info": {
      "name": "python"
    }
  },
  "cells": [
    {
      "cell_type": "markdown",
      "metadata": {
        "id": "view-in-github",
        "colab_type": "text"
      },
      "source": [
        "<a href=\"https://colab.research.google.com/github/tejasmaskar09/Skill/blob/main/bagging%20and%20boosting.ipynb\" target=\"_parent\"><img src=\"https://colab.research.google.com/assets/colab-badge.svg\" alt=\"Open In Colab\"/></a>"
      ]
    },
    {
      "cell_type": "code",
      "execution_count": 2,
      "metadata": {
        "colab": {
          "base_uri": "https://localhost:8080/"
        },
        "id": "XMXPpbdaOlDA",
        "outputId": "876d3dfc-2b05-4e19-be82-ad1941719a38"
      },
      "outputs": [
        {
          "output_type": "stream",
          "name": "stdout",
          "text": [
            "Bagging Accuracy: 1.0\n",
            "AdaBoost Accuracy: 1.0\n",
            "Gradient Boosting Accuracy: 0.5\n",
            "Random Forest Accuracy: 1.0\n"
          ]
        }
      ],
      "source": [
        "# prompt: bagging boosting\n",
        "\n",
        "import pandas as pd\n",
        "from sklearn.model_selection import train_test_split\n",
        "from sklearn.ensemble import BaggingClassifier, AdaBoostClassifier, RandomForestClassifier, GradientBoostingClassifier\n",
        "from sklearn.tree import DecisionTreeClassifier\n",
        "from sklearn.metrics import accuracy_score\n",
        "\n",
        "# Sample data (replace with your own data)\n",
        "data = {'feature1': [1, 2, 3, 4, 5, 6, 7, 8, 9, 10],\n",
        "        'feature2': [10, 9, 8, 7, 6, 5, 4, 3, 2, 1],\n",
        "        'target': [0, 0, 0, 0, 1, 1, 1, 1, 1, 0]}\n",
        "df = pd.DataFrame(data)\n",
        "X = df[['feature1', 'feature2']]\n",
        "y = df['target']\n",
        "\n",
        "# Split data into training and testing sets\n",
        "X_train, X_test, y_train, y_test = train_test_split(X, y, test_size=0.2, random_state=42)\n",
        "\n",
        "\n",
        "# Bagging\n",
        "# The 'base_estimator' argument was renamed to 'estimator' in newer versions of scikit-learn.\n",
        "bagging_model = BaggingClassifier(estimator=DecisionTreeClassifier(), n_estimators=10, random_state=42)\n",
        "bagging_model.fit(X_train, y_train)\n",
        "bagging_predictions = bagging_model.predict(X_test)\n",
        "bagging_accuracy = accuracy_score(y_test, bagging_predictions)\n",
        "print(f\"Bagging Accuracy: {bagging_accuracy}\")\n",
        "\n",
        "# Boosting (AdaBoost)\n",
        "adaboost_model = AdaBoostClassifier(n_estimators=50, random_state=42)\n",
        "adaboost_model.fit(X_train, y_train)\n",
        "adaboost_predictions = adaboost_model.predict(X_test)\n",
        "adaboost_accuracy = accuracy_score(y_test, adaboost_predictions)\n",
        "print(f\"AdaBoost Accuracy: {adaboost_accuracy}\")\n",
        "\n",
        "\n",
        "# Boosting (Gradient Boosting)\n",
        "gb_model = GradientBoostingClassifier(n_estimators=100, learning_rate=0.1, random_state=42)\n",
        "gb_model.fit(X_train, y_train)\n",
        "gb_predictions = gb_model.predict(X_test)\n",
        "gb_accuracy = accuracy_score(y_test, gb_predictions)\n",
        "print(f\"Gradient Boosting Accuracy: {gb_accuracy}\")\n",
        "\n",
        "\n",
        "# Random Forest (Bagging of decision trees)\n",
        "rf_model = RandomForestClassifier(n_estimators=100, random_state=42)\n",
        "rf_model.fit(X_train, y_train)\n",
        "rf_predictions = rf_model.predict(X_test)\n",
        "rf_accuracy = accuracy_score(y_test, rf_predictions)\n",
        "print(f\"Random Forest Accuracy: {rf_accuracy}\")"
      ]
    }
  ]
}